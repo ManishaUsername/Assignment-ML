{
 "cells": [
  {
   "cell_type": "code",
   "execution_count": 42,
   "id": "8b826b65",
   "metadata": {},
   "outputs": [
    {
     "name": "stdout",
     "output_type": "stream",
     "text": [
      "Model Accuracy: 0.91\n",
      "Confusion Matrix:\n",
      " [[ 4  5]\n",
      " [ 4 87]]\n",
      "Classification Report:\n",
      "               precision    recall  f1-score   support\n",
      "\n",
      "           0       0.50      0.44      0.47         9\n",
      "           1       0.95      0.96      0.95        91\n",
      "\n",
      "    accuracy                           0.91       100\n",
      "   macro avg       0.72      0.70      0.71       100\n",
      "weighted avg       0.91      0.91      0.91       100\n",
      "\n"
     ]
    }
   ],
   "source": [
    "import pandas as pd\n",
    "import numpy as np\n",
    "from sklearn.model_selection import train_test_split\n",
    "from sklearn.tree import DecisionTreeClassifier\n",
    "from sklearn.metrics import accuracy_score, classification_report, confusion_matrix\n",
    "\n",
    "# Load dataset\n",
    "data = pd.read_csv(r\"C:\\\\Users\\\\hp\\\\OneDrive\\\\Desktop\\\\Assignmwnt ML\\\\Assignmwnt ML\\\\admission.csv\")\n",
    "\n",
    "# Strip whitespace from column names\n",
    "data.columns = data.columns.str.strip()\n",
    "\n",
    "# Print columns to debug (optional)\n",
    "# print(data.columns.tolist())\n",
    "\n",
    "# Rename columns for ease of use\n",
    "data.rename(columns={\n",
    "    'GRE Score': 'GRE',\n",
    "    'TOEFL Score': 'TOEFL',\n",
    "    'University Rating': 'UniRating',\n",
    "    'SOP': 'SOP',\n",
    "    'LOR': 'LOR',\n",
    "    'CGPA': 'GPA',\n",
    "    'Research': 'Research',\n",
    "    'Chance of Admit': 'Admitted'\n",
    "}, inplace=True)\n",
    "\n",
    "# Drop 'Serial No.'\n",
    "data.drop(columns=['Serial No.'], inplace=True)\n",
    "\n",
    "# Convert 'Admitted' to binary class (0 or 1)\n",
    "data['Admitted'] = (data['Admitted'] >= 0.5).astype(int)\n",
    "\n",
    "# Features and target\n",
    "features = ['GRE', 'TOEFL', 'UniRating', 'SOP', 'LOR', 'GPA', 'Research']\n",
    "X = data[features]\n",
    "y = data['Admitted']\n",
    "\n",
    "# Split the data\n",
    "X_train, X_test, y_train, y_test = train_test_split(X, y, test_size=0.2, random_state=42)\n",
    "\n",
    "# Train the model\n",
    "clf = DecisionTreeClassifier(random_state=42)\n",
    "clf.fit(X_train, y_train)\n",
    "\n",
    "# Predict\n",
    "y_pred = clf.predict(X_test)\n",
    "\n",
    "# Evaluate\n",
    "accuracy = accuracy_score(y_test, y_pred)\n",
    "conf_matrix = confusion_matrix(y_test, y_pred)\n",
    "class_report = classification_report(y_test, y_pred)\n",
    "\n",
    "# Print results\n",
    "print(\"Model Accuracy:\", accuracy)\n",
    "print(\"Confusion Matrix:\\n\", conf_matrix)\n",
    "print(\"Classification Report:\\n\", class_report)\n"
   ]
  }
 ],
 "metadata": {
  "language_info": {
   "name": "python"
  }
 },
 "nbformat": 4,
 "nbformat_minor": 5
}
