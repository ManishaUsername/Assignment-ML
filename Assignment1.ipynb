{
 "cells": [
  {
   "cell_type": "code",
   "execution_count": 29,
   "metadata": {},
   "outputs": [],
   "source": [
    "# Perform the following operations using R/Python on suitable data sets:\n",
    "# a) read data from different formats (like csv, xls)\n",
    "# b) Find Shape of Data\n",
    "# c) Find Missing Values\n",
    "# d) Find data type of each column\n",
    "# e) Finding out Zero's\n",
    "# f) Indexing and selecting data, sort data,\n",
    "# g) Describe attributes of data, checking data types of each column,\n",
    "# h) counting unique values of data, format of each column, converting variable\n",
    "# data type (e.g. from long to short, vice versa)"
   ]
  },
  {
   "cell_type": "code",
   "execution_count": 30,
   "metadata": {},
   "outputs": [],
   "source": [
    "import numpy as np\n",
    "import pandas as pd"
   ]
  },
  {
   "cell_type": "code",
   "execution_count": 31,
   "metadata": {},
   "outputs": [],
   "source": [
    "df = pd.read_csv(\"C:\\\\Users\\\\hp\\\\OneDrive\\\\Desktop\\\\Assignmwnt ML\\\\Assignmwnt ML\\\\Customers - Customers.csv\")"
   ]
  },
  {
   "cell_type": "code",
   "execution_count": 32,
   "metadata": {},
   "outputs": [
    {
     "data": {
      "text/html": [
       "<div>\n",
       "<style scoped>\n",
       "    .dataframe tbody tr th:only-of-type {\n",
       "        vertical-align: middle;\n",
       "    }\n",
       "\n",
       "    .dataframe tbody tr th {\n",
       "        vertical-align: top;\n",
       "    }\n",
       "\n",
       "    .dataframe thead th {\n",
       "        text-align: right;\n",
       "    }\n",
       "</style>\n",
       "<table border=\"1\" class=\"dataframe\">\n",
       "  <thead>\n",
       "    <tr style=\"text-align: right;\">\n",
       "      <th></th>\n",
       "      <th>CustomerID</th>\n",
       "      <th>Gender</th>\n",
       "      <th>Age</th>\n",
       "      <th>Annual Income ($)</th>\n",
       "      <th>Spending Score (1-100)</th>\n",
       "      <th>Profession</th>\n",
       "      <th>Work Experience</th>\n",
       "      <th>Family Size</th>\n",
       "    </tr>\n",
       "  </thead>\n",
       "  <tbody>\n",
       "    <tr>\n",
       "      <th>0</th>\n",
       "      <td>1</td>\n",
       "      <td>Male</td>\n",
       "      <td>19</td>\n",
       "      <td>15000</td>\n",
       "      <td>39</td>\n",
       "      <td>Healthcare</td>\n",
       "      <td>1</td>\n",
       "      <td>4</td>\n",
       "    </tr>\n",
       "    <tr>\n",
       "      <th>1</th>\n",
       "      <td>2</td>\n",
       "      <td>Male</td>\n",
       "      <td>21</td>\n",
       "      <td>35000</td>\n",
       "      <td>81</td>\n",
       "      <td>Engineer</td>\n",
       "      <td>3</td>\n",
       "      <td>3</td>\n",
       "    </tr>\n",
       "    <tr>\n",
       "      <th>2</th>\n",
       "      <td>3</td>\n",
       "      <td>Female</td>\n",
       "      <td>20</td>\n",
       "      <td>86000</td>\n",
       "      <td>6</td>\n",
       "      <td>Engineer</td>\n",
       "      <td>1</td>\n",
       "      <td>1</td>\n",
       "    </tr>\n",
       "    <tr>\n",
       "      <th>3</th>\n",
       "      <td>4</td>\n",
       "      <td>Female</td>\n",
       "      <td>23</td>\n",
       "      <td>59000</td>\n",
       "      <td>77</td>\n",
       "      <td>Lawyer</td>\n",
       "      <td>0</td>\n",
       "      <td>2</td>\n",
       "    </tr>\n",
       "    <tr>\n",
       "      <th>4</th>\n",
       "      <td>5</td>\n",
       "      <td>Female</td>\n",
       "      <td>31</td>\n",
       "      <td>38000</td>\n",
       "      <td>40</td>\n",
       "      <td>Entertainment</td>\n",
       "      <td>2</td>\n",
       "      <td>6</td>\n",
       "    </tr>\n",
       "  </tbody>\n",
       "</table>\n",
       "</div>"
      ],
      "text/plain": [
       "   CustomerID  Gender  Age  Annual Income ($)  Spending Score (1-100)  \\\n",
       "0           1    Male   19              15000                      39   \n",
       "1           2    Male   21              35000                      81   \n",
       "2           3  Female   20              86000                       6   \n",
       "3           4  Female   23              59000                      77   \n",
       "4           5  Female   31              38000                      40   \n",
       "\n",
       "      Profession  Work Experience  Family Size  \n",
       "0     Healthcare                1            4  \n",
       "1       Engineer                3            3  \n",
       "2       Engineer                1            1  \n",
       "3         Lawyer                0            2  \n",
       "4  Entertainment                2            6  "
      ]
     },
     "execution_count": 32,
     "metadata": {},
     "output_type": "execute_result"
    }
   ],
   "source": [
    "df.head()"
   ]
  },
  {
   "cell_type": "code",
   "execution_count": 33,
   "metadata": {},
   "outputs": [
    {
     "name": "stdout",
     "output_type": "stream",
     "text": [
      "Shape Of Dataframe\n",
      "(2000, 8)\n"
     ]
    }
   ],
   "source": [
    "\n",
    "print(\"Shape Of Dataframe\")\n",
    "print(df.shape)"
   ]
  },
  {
   "cell_type": "code",
   "execution_count": 34,
   "metadata": {},
   "outputs": [
    {
     "name": "stdout",
     "output_type": "stream",
     "text": [
      "Missing values od dataframe\n",
      "      CustomerID  Gender    Age  Annual Income ($)  Spending Score (1-100)  \\\n",
      "0          False   False  False              False                   False   \n",
      "1          False   False  False              False                   False   \n",
      "2          False   False  False              False                   False   \n",
      "3          False   False  False              False                   False   \n",
      "4          False   False  False              False                   False   \n",
      "...          ...     ...    ...                ...                     ...   \n",
      "1995       False   False  False              False                   False   \n",
      "1996       False   False  False              False                   False   \n",
      "1997       False   False  False              False                   False   \n",
      "1998       False   False  False              False                   False   \n",
      "1999       False   False  False              False                   False   \n",
      "\n",
      "      Profession  Work Experience  Family Size  \n",
      "0          False            False        False  \n",
      "1          False            False        False  \n",
      "2          False            False        False  \n",
      "3          False            False        False  \n",
      "4          False            False        False  \n",
      "...          ...              ...          ...  \n",
      "1995       False            False        False  \n",
      "1996       False            False        False  \n",
      "1997       False            False        False  \n",
      "1998       False            False        False  \n",
      "1999       False            False        False  \n",
      "\n",
      "[2000 rows x 8 columns]\n",
      "Sum of missing values of dataframe\n",
      "CustomerID                 0\n",
      "Gender                     0\n",
      "Age                        0\n",
      "Annual Income ($)          0\n",
      "Spending Score (1-100)     0\n",
      "Profession                35\n",
      "Work Experience            0\n",
      "Family Size                0\n",
      "dtype: int64\n"
     ]
    }
   ],
   "source": [
    "print(\"Missing values od dataframe\")\n",
    "print(df.isnull())\n",
    "print(\"Sum of missing values of dataframe\")\n",
    "print(df.isnull().sum())"
   ]
  },
  {
   "cell_type": "code",
   "execution_count": 35,
   "metadata": {},
   "outputs": [
    {
     "name": "stdout",
     "output_type": "stream",
     "text": [
      "datatype od each of column: \n",
      "<class 'pandas.core.frame.DataFrame'>\n",
      "RangeIndex: 2000 entries, 0 to 1999\n",
      "Data columns (total 8 columns):\n",
      " #   Column                  Non-Null Count  Dtype \n",
      "---  ------                  --------------  ----- \n",
      " 0   CustomerID              2000 non-null   int64 \n",
      " 1   Gender                  2000 non-null   object\n",
      " 2   Age                     2000 non-null   int64 \n",
      " 3   Annual Income ($)       2000 non-null   int64 \n",
      " 4   Spending Score (1-100)  2000 non-null   int64 \n",
      " 5   Profession              1965 non-null   object\n",
      " 6   Work Experience         2000 non-null   int64 \n",
      " 7   Family Size             2000 non-null   int64 \n",
      "dtypes: int64(6), object(2)\n",
      "memory usage: 125.1+ KB\n",
      "None\n"
     ]
    }
   ],
   "source": [
    "print(\"datatype od each of column: \")\n",
    "print(df.info())"
   ]
  },
  {
   "cell_type": "code",
   "execution_count": 36,
   "metadata": {},
   "outputs": [
    {
     "name": "stdout",
     "output_type": "stream",
     "text": [
      "zeros in each column: \n",
      "CustomerID                  0\n",
      "Gender                      0\n",
      "Age                        24\n",
      "Annual Income ($)           2\n",
      "Spending Score (1-100)      2\n",
      "Profession                  0\n",
      "Work Experience           431\n",
      "Family Size                 0\n",
      "dtype: int64\n"
     ]
    }
   ],
   "source": [
    "print(\"zeros in each column: \")\n",
    "print((df==0).sum())"
   ]
  },
  {
   "cell_type": "code",
   "execution_count": 37,
   "metadata": {},
   "outputs": [
    {
     "name": "stdout",
     "output_type": "stream",
     "text": [
      "Sort dataframe on the basis of column: \n",
      "<bound method DataFrame.sort_values of       CustomerID  Gender  Age  Annual Income ($)  Spending Score (1-100)  \\\n",
      "0              1    Male   19              15000                      39   \n",
      "1              2    Male   21              35000                      81   \n",
      "2              3  Female   20              86000                       6   \n",
      "3              4  Female   23              59000                      77   \n",
      "4              5  Female   31              38000                      40   \n",
      "...          ...     ...  ...                ...                     ...   \n",
      "1995        1996  Female   71             184387                      40   \n",
      "1996        1997  Female   91              73158                      32   \n",
      "1997        1998    Male   87              90961                      14   \n",
      "1998        1999    Male   77             182109                       4   \n",
      "1999        2000    Male   90             110610                      52   \n",
      "\n",
      "         Profession  Work Experience  Family Size  \n",
      "0        Healthcare                1            4  \n",
      "1          Engineer                3            3  \n",
      "2          Engineer                1            1  \n",
      "3            Lawyer                0            2  \n",
      "4     Entertainment                2            6  \n",
      "...             ...              ...          ...  \n",
      "1995         Artist                8            7  \n",
      "1996         Doctor                7            7  \n",
      "1997     Healthcare                9            2  \n",
      "1998      Executive                7            2  \n",
      "1999  Entertainment                5            2  \n",
      "\n",
      "[2000 rows x 8 columns]>\n"
     ]
    }
   ],
   "source": [
    "print(\"Sort dataframe on the basis of column: \")\n",
    "print(df.sort_values)"
   ]
  },
  {
   "cell_type": "code",
   "execution_count": 38,
   "metadata": {},
   "outputs": [
    {
     "name": "stdout",
     "output_type": "stream",
     "text": [
      "Description Of Dataframe: \n",
      "<bound method NDFrame.describe of       CustomerID  Gender  Age  Annual Income ($)  Spending Score (1-100)  \\\n",
      "0              1    Male   19              15000                      39   \n",
      "1              2    Male   21              35000                      81   \n",
      "2              3  Female   20              86000                       6   \n",
      "3              4  Female   23              59000                      77   \n",
      "4              5  Female   31              38000                      40   \n",
      "...          ...     ...  ...                ...                     ...   \n",
      "1995        1996  Female   71             184387                      40   \n",
      "1996        1997  Female   91              73158                      32   \n",
      "1997        1998    Male   87              90961                      14   \n",
      "1998        1999    Male   77             182109                       4   \n",
      "1999        2000    Male   90             110610                      52   \n",
      "\n",
      "         Profession  Work Experience  Family Size  \n",
      "0        Healthcare                1            4  \n",
      "1          Engineer                3            3  \n",
      "2          Engineer                1            1  \n",
      "3            Lawyer                0            2  \n",
      "4     Entertainment                2            6  \n",
      "...             ...              ...          ...  \n",
      "1995         Artist                8            7  \n",
      "1996         Doctor                7            7  \n",
      "1997     Healthcare                9            2  \n",
      "1998      Executive                7            2  \n",
      "1999  Entertainment                5            2  \n",
      "\n",
      "[2000 rows x 8 columns]>\n"
     ]
    }
   ],
   "source": [
    "print(\"Description Of Dataframe: \")\n",
    "print(df.describe)"
   ]
  },
  {
   "cell_type": "code",
   "execution_count": 39,
   "metadata": {},
   "outputs": [
    {
     "name": "stdout",
     "output_type": "stream",
     "text": [
      "Unique counts:  CustomerID                2000\n",
      "Gender                       2\n",
      "Age                        100\n",
      "Annual Income ($)         1786\n",
      "Spending Score (1-100)     101\n",
      "Profession                   9\n",
      "Work Experience             18\n",
      "Family Size                  9\n",
      "dtype: int64\n"
     ]
    }
   ],
   "source": [
    "unique_counts = df.nunique()\n",
    "print(\"Unique counts: \",unique_counts)"
   ]
  },
  {
   "cell_type": "markdown",
   "metadata": {},
   "source": []
  },
  {
   "cell_type": "code",
   "execution_count": 40,
   "metadata": {},
   "outputs": [
    {
     "name": "stdout",
     "output_type": "stream",
     "text": [
      "List all columns of daraframe: \n",
      "Index(['CustomerID', 'Gender', 'Age', 'Annual Income ($)',\n",
      "       'Spending Score (1-100)', 'Profession', 'Work Experience',\n",
      "       'Family Size'],\n",
      "      dtype='object')\n"
     ]
    }
   ],
   "source": [
    "print(\"List all columns of daraframe: \")\n",
    "print(df.columns)\n"
   ]
  }
 ],
 "metadata": {
  "kernelspec": {
   "display_name": "Python 3",
   "language": "python",
   "name": "python3"
  },
  "language_info": {
   "codemirror_mode": {
    "name": "ipython",
    "version": 3
   },
   "file_extension": ".py",
   "mimetype": "text/x-python",
   "name": "python",
   "nbconvert_exporter": "python",
   "pygments_lexer": "ipython3",
   "version": "3.12.6"
  }
 },
 "nbformat": 4,
 "nbformat_minor": 2
}
